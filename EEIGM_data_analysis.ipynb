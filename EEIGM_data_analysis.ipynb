{
  "nbformat": 4,
  "nbformat_minor": 0,
  "metadata": {
    "colab": {
      "provenance": []
    },
    "kernelspec": {
      "name": "python3",
      "display_name": "Python 3"
    },
    "language_info": {
      "name": "python"
    }
  },
  "cells": [
    {
      "cell_type": "markdown",
      "source": [
        "# PUC COURSE - EEIGM \n",
        "# BLOCK 1: DATA ANALYSIS \n",
        "\n",
        "Raul Benitez, Universitat Polotècnica de Catalunya, raul.benitez@upc.edu\n",
        "\n",
        "**SCHEDULE AND CONTENTS**\n",
        "\n",
        "0. Introduction to Python programming (1h)\n",
        "1. Exploratory data analysis in python (1h)\n",
        "2. Visualisation of mutidimensional data (1h)\n",
        "3. Data clustering (2h)\n",
        "4. Supervised classification algorithms (3h)\n",
        "\n"
      ],
      "metadata": {
        "id": "l38rxws9pg40"
      }
    },
    {
      "cell_type": "markdown",
      "source": [
        "## 0.Introduction to Python programming"
      ],
      "metadata": {
        "id": "8OW_hA-Sq9sm"
      }
    },
    {
      "cell_type": "markdown",
      "metadata": {
        "id": "9LygxZuMiKAB"
      },
      "source": [
        "## Why Python?\n",
        "Python is a high-level programming language that allows you to solve general-purpose problems. It is especially useful in data processing, pattern recognition and artificial intelligence applications. Think of a kind of very powerful programmable scientific calculator.\n",
        "\n",
        "The objective of this first part of the course is to hace a crash course on Python programming. In the following laboratory sessions you will learn how to use Python in order to do data analysis and machine learning. "
      ]
    },
    {
      "cell_type": "markdown",
      "metadata": {
        "id": "pEQYpwPvfvWO"
      },
      "source": [
        "## The google Colaboratory platform: Python notebooks\n",
        "\n",
        "There are a large number of programming environments that allow you to develop programs with Python. The most common ones require the installation in your computer of a complete Python programming platform such as Anaconda (https://www.anaconda.com/, for MacOS and Windows) or WinPython (https://winpython.github.io/, Windows only). These distributions work perfectly fine but require lots of ressources from your personal computers in terms of disk, memory and CPU. \n",
        "\n",
        "### Google colab\n",
        "Instead, in the course we will use a google cloud platform called google collaboratory that already has most of the necessary libraries and allows us to work without the need to install anything on our computers:\n",
        "\n",
        "https://colab.research.google.com/\n",
        "\n",
        "The only thing it asks us to start working is a gmail google account. In addition, it allows us to run the programs on google servers, which can be very useful when we manipulate large amounts of data.\n",
        "\n",
        "### Python notebooks\n",
        "The way to program on this platform are the **Python notebooks**: A notebook is a document that combines text and Python code. A notebook is composed of two different kinds of cells: code cells and text cells. Text cells are used to explain what we do at any given time, and the Python code excutes different code segments that perform different functions.  Here is a brief tutorial of how to get started working with juputer notebooks in Google colab: \n",
        "\n",
        "https://colab.research.google.com/notebooks/intro.ipynb\n",
        "\n",
        "The text in the notebooks is written in a simple markdown language called **Markdown**. To have a brief introduction to markdown language just take a look to https://colab.research.google.com/notebooks/markdown_guide.ipynb"
      ]
    },
    {
      "cell_type": "markdown",
      "metadata": {
        "id": "jsxiJZwxdlzZ"
      },
      "source": [
        "## Executing commands\n",
        "\n",
        "In order to execute a command, you should write it in a **code cell** and execute it by either clicking in the play icon on the left or by the keyboard shortcut Shift+Return. "
      ]
    },
    {
      "cell_type": "code",
      "metadata": {
        "id": "eY80RVdvdlza",
        "colab": {
          "base_uri": "https://localhost:8080/"
        },
        "outputId": "941157c9-b1db-4e18-9d9c-1f46cdf27850"
      },
      "source": [
        "3 + 4 + 9"
      ],
      "execution_count": 29,
      "outputs": [
        {
          "output_type": "execute_result",
          "data": {
            "text/plain": [
              "16"
            ]
          },
          "metadata": {},
          "execution_count": 29
        }
      ]
    },
    {
      "cell_type": "code",
      "metadata": {
        "id": "puH-CkUPdlzg",
        "colab": {
          "base_uri": "https://localhost:8080/"
        },
        "outputId": "889b374e-3f5d-4876-ed0c-eb5555e9e2b8"
      },
      "source": [
        "list(range(10))"
      ],
      "execution_count": 30,
      "outputs": [
        {
          "output_type": "execute_result",
          "data": {
            "text/plain": [
              "[0, 1, 2, 3, 4, 5, 6, 7, 8, 9]"
            ]
          },
          "metadata": {},
          "execution_count": 30
        }
      ]
    },
    {
      "cell_type": "markdown",
      "metadata": {
        "id": "0laSTlXFdlzl"
      },
      "source": [
        "## Modules and libraries\n",
        "\n",
        "Python is a general-purpose programming language, so when we want to use more specific commands (such as statistical operators or string processing operators) we usually need to import them before we can use them. For Scientific Python, one of the most important libraries that we need is **numpy** (Numerical Python, NumPy: Basic mathematical operations with vectors and arrays: https://numpy.org/), which can be loaded like this:"
      ]
    },
    {
      "cell_type": "code",
      "metadata": {
        "id": "6BbJUhuJdlzm",
        "colab": {
          "base_uri": "https://localhost:8080/"
        },
        "outputId": "84b47900-ef2f-4422-bd4d-981565141cd7"
      },
      "source": [
        "import numpy as np\n",
        "np.sqrt(25)"
      ],
      "execution_count": 31,
      "outputs": [
        {
          "output_type": "execute_result",
          "data": {
            "text/plain": [
              "5.0"
            ]
          },
          "metadata": {},
          "execution_count": 31
        }
      ]
    },
    {
      "cell_type": "code",
      "metadata": {
        "id": "yDfExa3edlzp",
        "colab": {
          "base_uri": "https://localhost:8080/"
        },
        "outputId": "8816f67c-78b9-420a-a612-38db9647370c"
      },
      "source": [
        "np.arange(10)"
      ],
      "execution_count": 32,
      "outputs": [
        {
          "output_type": "execute_result",
          "data": {
            "text/plain": [
              "array([0, 1, 2, 3, 4, 5, 6, 7, 8, 9])"
            ]
          },
          "metadata": {},
          "execution_count": 32
        }
      ]
    },
    {
      "cell_type": "markdown",
      "metadata": {
        "id": "SqBm2382dlzs"
      },
      "source": [
        "Access to the functions, variables and classes of a module depends on the way the module was imported:"
      ]
    },
    {
      "cell_type": "code",
      "metadata": {
        "id": "Ua9DHZr9dlzt",
        "colab": {
          "base_uri": "https://localhost:8080/"
        },
        "outputId": "94b8c679-a369-4004-a8ef-e43f27427aa8"
      },
      "source": [
        "import math\n",
        "math.cos(math.pi)"
      ],
      "execution_count": 33,
      "outputs": [
        {
          "output_type": "execute_result",
          "data": {
            "text/plain": [
              "-1.0"
            ]
          },
          "metadata": {},
          "execution_count": 33
        }
      ]
    },
    {
      "cell_type": "code",
      "metadata": {
        "id": "MaFbhc7Odlzw",
        "colab": {
          "base_uri": "https://localhost:8080/"
        },
        "outputId": "d3feb1a1-6548-409a-c38c-f92af70e7338"
      },
      "source": [
        "import math as m  # import using an alias\n",
        "m.cos(m.pi)"
      ],
      "execution_count": 34,
      "outputs": [
        {
          "output_type": "execute_result",
          "data": {
            "text/plain": [
              "-1.0"
            ]
          },
          "metadata": {},
          "execution_count": 34
        }
      ]
    },
    {
      "cell_type": "code",
      "metadata": {
        "id": "3TT4wy9cdlz1",
        "colab": {
          "base_uri": "https://localhost:8080/"
        },
        "outputId": "30f97f60-f792-4ff6-823c-0894d7e9944b"
      },
      "source": [
        "from math import cos,pi # import only some functions\n",
        "cos(pi)"
      ],
      "execution_count": 35,
      "outputs": [
        {
          "output_type": "execute_result",
          "data": {
            "text/plain": [
              "-1.0"
            ]
          },
          "metadata": {},
          "execution_count": 35
        }
      ]
    },
    {
      "cell_type": "code",
      "metadata": {
        "id": "UXDvJrm8dlz4",
        "colab": {
          "base_uri": "https://localhost:8080/"
        },
        "outputId": "8a53297f-f655-4fc7-bc64-b49ebb8fa266"
      },
      "source": [
        "from math import *   # global import\n",
        "cos(pi)"
      ],
      "execution_count": 36,
      "outputs": [
        {
          "output_type": "execute_result",
          "data": {
            "text/plain": [
              "-1.0"
            ]
          },
          "metadata": {},
          "execution_count": 36
        }
      ]
    },
    {
      "cell_type": "markdown",
      "metadata": {
        "id": "Y7nBmqjVi1L8"
      },
      "source": [
        "Besides Numpy, the most important in the field of data analysis are the following:\n",
        "\n",
        "**Scipy**: Basic Statistical Operations: https://www.scipy.org/\n",
        "\n",
        "**Pandas**: Allows you to manipulate data files in excel, csv, text, etc. https://pandas.pydata.org/\n",
        "\n",
        "**Seaborn**: Graphing data in pandas format: https://seaborn.pydata.org/\n",
        "\n",
        "**Matplotlib**: Plotting nnumpy arrays: https://matplotlib.org/\n",
        "\n",
        "**sckit-learn**: Pattern recognition and artificial intelligence tools https://scikit-learn.org/stable/\n",
        "\n",
        "**sckit-image**: Image processing https://scikit-image.org/"
      ]
    },
    {
      "cell_type": "markdown",
      "metadata": {
        "id": "Zi5A_CoIdlz7"
      },
      "source": [
        "## Variables\n",
        "Often the value returned by an operation will be used later on. Values can be stored for later use with the **assignment operator**:"
      ]
    },
    {
      "cell_type": "code",
      "metadata": {
        "id": "0latO-7hdlz8",
        "colab": {
          "base_uri": "https://localhost:8080/"
        },
        "outputId": "61c9eb6f-c4fe-4823-a5c3-ba7d50621517"
      },
      "source": [
        "a = 101\n",
        "type(a)"
      ],
      "execution_count": 37,
      "outputs": [
        {
          "output_type": "execute_result",
          "data": {
            "text/plain": [
              "int"
            ]
          },
          "metadata": {},
          "execution_count": 37
        }
      ]
    },
    {
      "cell_type": "markdown",
      "metadata": {
        "id": "t2OkIhnBdlz_"
      },
      "source": [
        "The command has stored the value 101 under the name <code>a</code>. Such stored values are called **objects**. \n",
        "\n",
        "Making an assignment to an object defines the object. Once an object has been defined, it can be referred to and used in later computations. \n",
        "\n",
        "To refer to the value stored in the object, just use the object’s name itself. For instance:"
      ]
    },
    {
      "cell_type": "code",
      "metadata": {
        "id": "DKSn63a0teXV",
        "colab": {
          "base_uri": "https://localhost:8080/"
        },
        "outputId": "06004a2a-c0b2-4b84-cd9e-3fc59bfc4819"
      },
      "source": [
        "np.sqrt(a)"
      ],
      "execution_count": 38,
      "outputs": [
        {
          "output_type": "execute_result",
          "data": {
            "text/plain": [
              "10.04987562112089"
            ]
          },
          "metadata": {},
          "execution_count": 38
        }
      ]
    },
    {
      "cell_type": "code",
      "metadata": {
        "id": "r8c44B9Vdlz_",
        "colab": {
          "base_uri": "https://localhost:8080/"
        },
        "outputId": "b1aa373c-2cd5-4f42-eaba-428bcad3bbfc"
      },
      "source": [
        "a = np.sqrt(a)\n",
        "a\n",
        "type(a)"
      ],
      "execution_count": 39,
      "outputs": [
        {
          "output_type": "execute_result",
          "data": {
            "text/plain": [
              "numpy.float64"
            ]
          },
          "metadata": {},
          "execution_count": 39
        }
      ]
    },
    {
      "cell_type": "markdown",
      "metadata": {
        "id": "_ZUXo-hHdl0D"
      },
      "source": [
        "There are some general rules for object names:\n",
        "\n",
        "+ Use only letters and numbers and ‘underscores’ (_)\n",
        "+ Do NOT use spaces anywhere in the name\n",
        "+ A number cannot be the first character in the name\n",
        "+ Capital letters are treated as distinct from lower-case letters (i.e., Python is case-sensitive)"
      ]
    },
    {
      "cell_type": "code",
      "metadata": {
        "id": "H2HeJqLddl0D",
        "colab": {
          "base_uri": "https://localhost:8080/",
          "height": 133
        },
        "outputId": "51fb1aee-5022-4314-af65-92d6afb53adc"
      },
      "source": [
        "3a = 10"
      ],
      "execution_count": 40,
      "outputs": [
        {
          "output_type": "error",
          "ename": "SyntaxError",
          "evalue": "ignored",
          "traceback": [
            "\u001b[0;36m  File \u001b[0;32m\"<ipython-input-40-f986eee6e224>\"\u001b[0;36m, line \u001b[0;32m1\u001b[0m\n\u001b[0;31m    3a = 10\u001b[0m\n\u001b[0m     ^\u001b[0m\n\u001b[0;31mSyntaxError\u001b[0m\u001b[0;31m:\u001b[0m invalid syntax\n"
          ]
        }
      ]
    },
    {
      "cell_type": "markdown",
      "metadata": {
        "id": "MuBFQ1FIWqZ9"
      },
      "source": [
        "## Printing out variables:\n",
        "\n",
        "You can check the value of a variable by printing it. You can also embed the value of the variable in a string using the *format* option of the print instruction: "
      ]
    },
    {
      "cell_type": "code",
      "metadata": {
        "id": "sA2xM_kVXFoJ"
      },
      "source": [
        "a = 19\n",
        "print('The value of a is {}'.format(a))"
      ],
      "execution_count": null,
      "outputs": []
    },
    {
      "cell_type": "code",
      "metadata": {
        "id": "x_bJFgFduBjj"
      },
      "source": [
        "print(a)"
      ],
      "execution_count": null,
      "outputs": []
    },
    {
      "cell_type": "markdown",
      "metadata": {
        "id": "Liz1Twcadl23"
      },
      "source": [
        "## A simple program in Python\n",
        "\n",
        "General Rules:\n",
        "\n",
        "+ All text from a <code>#</code> simbol to the end of a line are considered as comments.\n",
        "+ Code must be **indented** and sometimes delineated by colons. The Python standard for indentation is four spaces. Never use tabs: it can produce hard to find errors. Set you editor to convert tabs to spaces.\n",
        "+ Typically, a statement must be on a line. You can use a backslash <code>\\</code> at the end of a line to continue a statement on to the next line.\n"
      ]
    },
    {
      "cell_type": "code",
      "metadata": {
        "id": "En5-bYq6dl24"
      },
      "source": [
        "# This program computes the factorial of 100.\n",
        "\n",
        "fact = 1\n",
        "n= 100\n",
        "for factor in range(n,0,-1):\n",
        "    fact = fact * factor \n",
        "print(fact)    "
      ],
      "execution_count": null,
      "outputs": []
    },
    {
      "cell_type": "markdown",
      "metadata": {
        "id": "peEEHopOqFYb"
      },
      "source": [
        "## Reading and handling data\n",
        "\n",
        "Since we are going to deal with a wide range of data types (text, numerical arrays, images, etc.). \n",
        "\n",
        "When working with google colab, the first thing you need to do is to grant access to the files in your google drive:\n"
      ]
    },
    {
      "cell_type": "code",
      "metadata": {
        "id": "F10XBb-3rvJM"
      },
      "source": [
        "from google.colab import drive \n",
        "drive.mount('/content/gdrive')"
      ],
      "execution_count": null,
      "outputs": []
    },
    {
      "cell_type": "markdown",
      "metadata": {
        "id": "8pUjkV6hr6Ww"
      },
      "source": [
        "Once you have access to your google drive, the files are available at the folder /content/gdrive. In order to list the folders in the root your drive use the listdir function from the os library:"
      ]
    },
    {
      "cell_type": "code",
      "metadata": {
        "id": "6Phb-19B0CEx"
      },
      "source": [
        "import os\n",
        "\n",
        "root_folder = '/content/gdrive/My Drive/'\n",
        "\n",
        "for kdirs in os.listdir(root_folder):\n",
        "    if os.path.isdir(os.path.join(root_folder, kdirs)):\n",
        "        print(kdirs)"
      ],
      "execution_count": null,
      "outputs": []
    },
    {
      "cell_type": "markdown",
      "metadata": {
        "id": "dctWz84r0Bb2"
      },
      "source": [
        "If you want to dig into the contents of several folders then use the function walk instead"
      ]
    },
    {
      "cell_type": "code",
      "metadata": {
        "id": "wfB1To3jtIpx"
      },
      "source": [
        "import os\n",
        "\n",
        "root_folder = '/content/gdrive/MyDrive/data_course'\n",
        "\n",
        "for root, dirs, files in os.walk(root_folder, topdown=False):\n",
        "    for name in dirs:\n",
        "        print(os.path.join(root, name))"
      ],
      "execution_count": null,
      "outputs": []
    },
    {
      "cell_type": "markdown",
      "metadata": {
        "id": "1b6uVZjvyhNz"
      },
      "source": [
        "### Read excel with Pandas\n",
        "\n",
        "In most cases, we are using the pandas library in order to read data. Download the shared folder DAPR sample data from \n",
        "\n",
        "https://drive.google.com/drive/folders/1zKHhi3ZbhO8lUwtDAOo7qFZJlIVQjqL4?usp=sharing\n",
        "\n",
        "and place it in the root of your google drive:"
      ]
    },
    {
      "cell_type": "code",
      "metadata": {
        "id": "qY4uSBbjyliY"
      },
      "source": [
        "import pandas as pd\n",
        "df = pd.read_excel('/content/gdrive/My Drive/DAPR sample data/test.xlsx', index_col=0,header=2)\n",
        "df.head()"
      ],
      "execution_count": null,
      "outputs": []
    },
    {
      "cell_type": "code",
      "metadata": {
        "id": "4GdLCJqj5eO_"
      },
      "source": [
        "df['Humans']"
      ],
      "execution_count": null,
      "outputs": []
    },
    {
      "cell_type": "code",
      "metadata": {
        "id": "mQb6nT5n5iOR"
      },
      "source": [
        "df['Robots'].values"
      ],
      "execution_count": null,
      "outputs": []
    },
    {
      "cell_type": "markdown",
      "metadata": {
        "id": "72nKAkXyhZCE"
      },
      "source": [
        "### Read data from web repository\n",
        "\n",
        "We can also access to data stored in a GitHub repository:\n",
        "\n",
        "Load updated coronavirus data from https://github.com/datadista/datasets.git\n"
      ]
    },
    {
      "cell_type": "code",
      "metadata": {
        "id": "xVj7FLvl4toI"
      },
      "source": [
        "!wget -O ccaa_covid19_fallecidos.csv 'https://raw.githubusercontent.com/datadista/datasets/master/COVID%2019/ccaa_covid19_fallecidos.csv'"
      ],
      "execution_count": null,
      "outputs": []
    },
    {
      "cell_type": "markdown",
      "metadata": {
        "id": "fT4qtXYLhtNX"
      },
      "source": [
        "The file has been downloaded to folder /content"
      ]
    },
    {
      "cell_type": "code",
      "metadata": {
        "id": "JhOiDyT15Vjr"
      },
      "source": [
        "import pandas as pd\n",
        "d = pd.read_csv('/content/ccaa_covid19_fallecidos.csv',sep=',',index_col=None)\n",
        "d = d.drop('cod_ine',1)\n",
        "d.head(20)\n"
      ],
      "execution_count": null,
      "outputs": []
    },
    {
      "cell_type": "markdown",
      "metadata": {
        "id": "dAhYWE9ShyjM"
      },
      "source": [
        "### Load built-in datasets\n",
        "\n",
        "You can access to built-in databases included in many libraries: \n",
        "\n",
        "Let's acces, for instance, the mpg cars database included in the graphical libraries seaborn:"
      ]
    },
    {
      "cell_type": "code",
      "metadata": {
        "id": "WyBP9oRJGatq"
      },
      "source": [
        "import pandas as pd \n",
        "import seaborn as sns \n",
        "mpg = sns.load_dataset(\"mpg\")\n",
        "mpg.head()"
      ],
      "execution_count": null,
      "outputs": []
    },
    {
      "cell_type": "markdown",
      "source": [
        "Sclkit-learn is another common library to load built-in datasets\n",
        "\n",
        "https://scikit-learn.org/stable/datasets/toy_dataset.html\n",
        "\n"
      ],
      "metadata": {
        "id": "sYrCkZILuP3d"
      }
    },
    {
      "cell_type": "code",
      "source": [
        "from sklearn.datasets import load_iris\n",
        "data = load_iris()\n",
        "data.target[[10, 25, 50]]\n",
        "\n",
        "list(data.target_names)"
      ],
      "metadata": {
        "id": "sS6wVjOLuW47"
      },
      "execution_count": null,
      "outputs": []
    },
    {
      "cell_type": "markdown",
      "source": [
        "#1.Exploratory data analysis in python"
      ],
      "metadata": {
        "id": "ZNcwLSlrqbZZ"
      }
    },
    {
      "cell_type": "code",
      "source": [],
      "metadata": {
        "id": "ZCvedBHwsEfA"
      },
      "execution_count": null,
      "outputs": []
    },
    {
      "cell_type": "markdown",
      "source": [
        "# 2. Visualisation of mutidimensional data "
      ],
      "metadata": {
        "id": "cqFvOnujqgnP"
      }
    },
    {
      "cell_type": "code",
      "source": [],
      "metadata": {
        "id": "2hqcRebiqjnb"
      },
      "execution_count": null,
      "outputs": []
    },
    {
      "cell_type": "markdown",
      "source": [
        "# 3. Data clustering\n"
      ],
      "metadata": {
        "id": "zVcdEqZ5qjwg"
      }
    },
    {
      "cell_type": "code",
      "source": [],
      "metadata": {
        "id": "IkdhEJeqqmry"
      },
      "execution_count": null,
      "outputs": []
    },
    {
      "cell_type": "markdown",
      "source": [
        "# 4. Supervised classification algorithms"
      ],
      "metadata": {
        "id": "gbhlaaTuqmzl"
      }
    },
    {
      "cell_type": "code",
      "source": [],
      "metadata": {
        "id": "KVZQq8nvqqj4"
      },
      "execution_count": null,
      "outputs": []
    }
  ]
}